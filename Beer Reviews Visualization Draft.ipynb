{
 "cells": [
  {
   "cell_type": "code",
   "execution_count": null,
   "metadata": {},
   "outputs": [],
   "source": [
    "import pandas as pd\n",
    "import matplotlib.pyplot as plt\n",
    "import matplotlib.style as style\n",
    "import seaborn as sns\n",
    "import numpy as np\n",
    "\n",
    "\n",
    "from plotly.offline import download_plotlyjs, init_notebook_mode, plot, iplot\n",
    "import plotly as py\n",
    "import plotly.graph_objs as go\n",
    "import plotly.tools as tls\n",
    "import plotly.figure_factory as ff\n",
    "import plotly.express as px\n",
    "\n",
    "import cufflinks\n",
    "cufflinks.go_offline(connected=True)\n",
    "init_notebook_mode(connected=True)\n"
   ]
  },
  {
   "cell_type": "markdown",
   "metadata": {},
   "source": [
    "## Beer Reviews Visualization\n",
    "\n",
    "This dataset contains 1.5 million beer reviews sourced from BeerAdvocate. We will examine the distrobution of the reviews, as well as the most popular (and least popular) beer styles and breweries."
   ]
  },
  {
   "cell_type": "code",
   "execution_count": null,
   "metadata": {},
   "outputs": [],
   "source": [
    "style.use('seaborn-darkgrid')\n",
    "style.use('seaborn-poster')"
   ]
  },
  {
   "cell_type": "code",
   "execution_count": null,
   "metadata": {
    "scrolled": true
   },
   "outputs": [],
   "source": [
    "df = pd.read_csv('beer_reviews_clean.csv')\n",
    "df.head()"
   ]
  },
  {
   "cell_type": "code",
   "execution_count": null,
   "metadata": {},
   "outputs": [],
   "source": [
    "print('Number of unique breweries:', df.brewery_name.nunique(),  'Number of unique beer styles:', df.beer_style.nunique(), 'Number of beers reviewed:', df.beer_name.nunique())"
   ]
  },
  {
   "cell_type": "code",
   "execution_count": null,
   "metadata": {},
   "outputs": [],
   "source": [
    "x0 = df.review_appearance\n",
    "x1 = df.review_aroma\n",
    "x2 = df.review_overall\n",
    "x3 = df.review_palate\n",
    "x4 = df.review_taste\n",
    "\n",
    "fig = go.Figure()\n",
    "fig.add_trace(go.Histogram(x=x0, name='Review Appearance'))\n",
    "fig.add_trace(go.Histogram(x=x1,  name='Review Aroma'))\n",
    "fig.add_trace(go.Histogram(x=x2, name='Review Overall'))\n",
    "fig.add_trace(go.Histogram(x=x3, name='Review Palate'))\n",
    "fig.add_trace(go.Histogram(x=x4, name=\"Review Taste\"))\n",
    "\n",
    "fig.update_traces(opacity=0.75)\n",
    "fig.update_layout(title_text = 'Distribution of Reviews',\n",
    "                 xaxis_title_text='Review Score',\n",
    "                 yaxis_title_text='Count',\n",
    "                 bargap=0.2)\n",
    "fig.show()"
   ]
  },
  {
   "cell_type": "markdown",
   "metadata": {},
   "source": [
    "It appears that the users in this dataset are most likely to give a rating of 4 across all categories. There seem to be more good reviews than bad. "
   ]
  },
  {
   "cell_type": "code",
   "execution_count": null,
   "metadata": {},
   "outputs": [],
   "source": [
    "x = df['beer_abv'].sort_values(ascending=False)\n",
    "\n",
    "fig= go.Figure()\n",
    "fig.add_trace(go.Histogram(x=x/100, nbinsx=100, histfunc=\"count\", name='count'))\n",
    "\n",
    "fig.update_layout(\n",
    "    autosize=False,\n",
    "    width=800,\n",
    "    height=800,\n",
    "    title_text='Beer ABV',\n",
    "    bargap=0.2,\n",
    "    xaxis=dict(title=\"Percent Alcohol by Volume\",\n",
    "            tickformat = \"%\",\n",
    "            hoverformat = '.2%'),\n",
    "    yaxis_title='Count')\n",
    "fig.show()"
   ]
  },
  {
   "cell_type": "code",
   "execution_count": null,
   "metadata": {},
   "outputs": [],
   "source": [
    "\n",
    "y = df['beer_style'].sort_values(ascending=False)\n",
    "\n",
    "fig = go.Figure()\n",
    "fig.add_trace(go.Histogram(y=y))\n",
    "\n",
    "fig.update_layout(\n",
    "    title_text='Beer Style Count', \n",
    "    autosize=False,\n",
    "    width=1200,\n",
    "    height=1200,\n",
    "    bargap=0.1,\n",
    "    uniformtext_minsize=8, uniformtext_mode='hide'\n",
    ")\n",
    "\n",
    "fig.show()"
   ]
  },
  {
   "cell_type": "code",
   "execution_count": null,
   "metadata": {},
   "outputs": [],
   "source": [
    "\n",
    "y = df['brewery_name'].sort_values(ascending=False)\n",
    "\n",
    "fig = go.Figure()\n",
    "fig.add_trace(go.Histogram(y=y))\n",
    "\n",
    "fig.update_layout(\n",
    "    title_text='Brewery Count',\n",
    "    autosize=False,\n",
    "    width=1200,\n",
    "    height=1200,\n",
    "    bargap=0.1)\n",
    "\n",
    "fig.show()"
   ]
  },
  {
   "cell_type": "code",
   "execution_count": null,
   "metadata": {},
   "outputs": [],
   "source": [
    "fig = px.scatter(x=df.review_overall, y=df.beer_abv, color=df.beer_style)\n",
    "fig.update_layout(title_text='Beer Ratings by ABV')\n",
    "fig.show()"
   ]
  },
  {
   "cell_type": "code",
   "execution_count": null,
   "metadata": {},
   "outputs": [],
   "source": [
    "print(np.mean(df['beer_abv']))"
   ]
  },
  {
   "cell_type": "code",
   "execution_count": null,
   "metadata": {},
   "outputs": [],
   "source": [
    "top20abv = df[['beer_name', 'brewery_name', 'beer_abv', 'beer_style']].sort_values('beer_abv', ascending=False).drop_duplicates('beer_name').head(20)\n",
    "\n",
    "p = [go.Bar(x = top20abv['beer_abv'] / 100,\n",
    "            y = top20abv['beer_name'],\n",
    "            hoverinfo = 'x',\n",
    "            text=top20abv['brewery_name'],\n",
    "            textposition = 'inside',\n",
    "            orientation='h',\n",
    "            opacity=0.7, \n",
    "            marker=dict(\n",
    "                color='rgb(1, 87, 155)'\n",
    "            ))]\n",
    "\n",
    "layout = go.Layout(title='Top 20 Strongest Beers by ABV',\n",
    "                   xaxis=dict(title=\"ABV\",\n",
    "                              tickformat = \"%\",\n",
    "                              hoverformat = '.2%'),\n",
    "                   margin = dict(l = 220))\n",
    "\n",
    "fig = go.Figure(data=p, layout=layout)\n",
    "\n",
    "py.offline.iplot(fig)\n"
   ]
  },
  {
   "cell_type": "code",
   "execution_count": null,
   "metadata": {},
   "outputs": [],
   "source": [
    "btm20abv = df[['beer_name', 'brewery_name', 'beer_abv', 'beer_style']].sort_values('beer_abv', ascending=False).drop_duplicates('beer_name').tail(20)\n",
    "\n",
    "p = [go.Bar(x = btm20abv['beer_abv'] / 100,\n",
    "            y = btm20abv['beer_name'],\n",
    "            hoverinfo = 'x',\n",
    "            text=btm20abv['brewery_name'],\n",
    "            textposition = 'inside',\n",
    "            orientation='h',\n",
    "            opacity=0.7, \n",
    "            marker=dict(\n",
    "                color='rgb(1, 87, 155)'\n",
    "            ))]\n",
    "\n",
    "layout = go.Layout(title='Top 20 Weakest Beers by ABV',\n",
    "                   xaxis=dict(title=\"ABV\",\n",
    "                              tickformat = \"%\",\n",
    "                              hoverformat = '.2%'),\n",
    "                   margin = dict(l = 220))\n",
    "\n",
    "fig = go.Figure(data=p, layout=layout)\n",
    "\n",
    "py.offline.iplot(fig)"
   ]
  },
  {
   "cell_type": "code",
   "execution_count": null,
   "metadata": {},
   "outputs": [],
   "source": [
    "top50beers = df[['beer_name', 'brewery_name', 'review_overall']].sort_values('review_overall', ascending=False).head(50)\n",
    "\n",
    "p = [go.Bar(x = top50beers['review_overall'],\n",
    "            y = top50beers['beer_name'],\n",
    "            hoverinfo = 'x',\n",
    "            text=top50beers['brewery_name'],\n",
    "            textposition = 'inside',\n",
    "            orientation='h',\n",
    "            opacity=0.7, \n",
    "            marker=dict(\n",
    "                color='rgb(1, 87, 155)'))]\n",
    "\n",
    "layout = go.Layout(title='Highest Rated Beers',\n",
    "                   xaxis_title_text = 'Number of 5 star reviews',\n",
    "                   autosize=False,\n",
    "                   width = 1000,\n",
    "                   height = 1000,\n",
    "                   margin = dict(l = 220))\n",
    "\n",
    "fig = go.Figure(data=p, layout=layout)\n",
    "\n",
    "py.offline.iplot(fig)\n"
   ]
  },
  {
   "cell_type": "code",
   "execution_count": null,
   "metadata": {},
   "outputs": [],
   "source": [
    "btm50beers = df[['beer_name', 'brewery_name', 'review_overall']].sort_values('review_overall', ascending=False).tail(50)\n",
    "\n",
    "p = [go.Bar(x = btm50beers['review_overall'],\n",
    "            y = btm50beers['beer_name'],\n",
    "            hoverinfo = 'x',\n",
    "            text=btm50beers['brewery_name'],\n",
    "            textposition = 'inside',\n",
    "            orientation='h',\n",
    "            opacity=0.7, \n",
    "            marker=dict(\n",
    "                color='rgb(1, 87, 155)'))]\n",
    "\n",
    "layout = go.Layout(title='Lowest Rated Beers',\n",
    "                   xaxis_title_text = 'Number of 1 star reviews',\n",
    "                   autosize=False,\n",
    "                   width = 1000,\n",
    "                   height = 1000,\n",
    "                   margin = dict(l = 220))\n",
    "\n",
    "fig = go.Figure(data=p, layout=layout)\n",
    "\n",
    "py.offline.iplot(fig)"
   ]
  },
  {
   "cell_type": "code",
   "execution_count": null,
   "metadata": {
    "scrolled": false
   },
   "outputs": [],
   "source": [
    "top20styles = df[['beer_name', 'brewery_name', 'review_overall', 'beer_style']].sort_values('review_overall', ascending=False).head(20)\n",
    "\n",
    "\n",
    "p = [go.Bar(x = top20styles['review_overall'],\n",
    "            y = top20styles['beer_style'],\n",
    "            hoverinfo = 'x',\n",
    "            textposition = 'inside',\n",
    "            orientation='h',\n",
    "            opacity=0.7, \n",
    "            marker=dict(\n",
    "                color='rgb(1, 87, 155)'))]\n",
    "\n",
    "layout = go.Layout(title='Highest Rated Beer styles',\n",
    "                   xaxis_title_text = 'Number of 5 star Reviews',\n",
    "                   autosize=False,\n",
    "                   width = 1000,\n",
    "                   height = 1000,\n",
    "                   margin = dict(l = 220))\n",
    "\n",
    "fig = go.Figure(data=p, layout=layout)\n",
    "\n",
    "py.offline.iplot(fig)\n"
   ]
  },
  {
   "cell_type": "code",
   "execution_count": null,
   "metadata": {},
   "outputs": [],
   "source": [
    "btm20styles = df[['beer_name', 'brewery_name', 'review_overall', 'beer_style']].sort_values('review_overall', ascending=False).tail(20)\n",
    "\n",
    "\n",
    "p = [go.Bar(x = btm20styles['review_overall'],\n",
    "            y = btm20styles['beer_style'],\n",
    "            hoverinfo = 'x',\n",
    "            textposition = 'inside',\n",
    "            orientation='h',\n",
    "            opacity=0.7, \n",
    "            marker=dict(\n",
    "                color='rgb(1, 87, 155)'))]\n",
    "\n",
    "layout = go.Layout(title='Lowest Rated Beer styles',\n",
    "                   xaxis_title_text = 'Number of 5 star Reviews',\n",
    "                   autosize=False,\n",
    "                   width = 1000,\n",
    "                   height = 1000,\n",
    "                   margin = dict(l = 220))\n",
    "\n",
    "fig = go.Figure(data=p, layout=layout)\n",
    "\n",
    "py.offline.iplot(fig)"
   ]
  },
  {
   "cell_type": "code",
   "execution_count": null,
   "metadata": {},
   "outputs": [],
   "source": [
    "dfhigh = df.loc[df['review_overall'] >= 3]\n",
    "dflow= df.loc[df['review_overall'] <= 2.5]"
   ]
  },
  {
   "cell_type": "markdown",
   "metadata": {},
   "source": [
    "## High vs Low review distributions"
   ]
  },
  {
   "cell_type": "code",
   "execution_count": null,
   "metadata": {},
   "outputs": [],
   "source": [
    "x0 = dfhigh.review_appearance\n",
    "x1 = dfhigh.review_aroma\n",
    "x2 = dfhigh.review_overall\n",
    "x3 = dfhigh.review_palate\n",
    "x4 = dfhigh.review_taste\n",
    "\n",
    "fig = go.Figure()\n",
    "fig.add_trace(go.Histogram(x=x0, name='Review Appearance'))\n",
    "fig.add_trace(go.Histogram(x=x1,  name='Review Aroma'))\n",
    "fig.add_trace(go.Histogram(x=x2, name='Review Overall'))\n",
    "fig.add_trace(go.Histogram(x=x3, name='Review Palate'))\n",
    "fig.add_trace(go.Histogram(x=x4, name=\"Review Taste\"))\n",
    "\n",
    "# Reduce opacity to see both histograms\n",
    "fig.update_traces(opacity=0.75)\n",
    "fig.update_layout(title_text = 'Distribution of Reviews - Highly Rated',\n",
    "                 xaxis_title_text='Review Score',\n",
    "                 yaxis_title_text='Count',\n",
    "                 bargap=0.2)\n",
    "fig.show()"
   ]
  },
  {
   "cell_type": "code",
   "execution_count": null,
   "metadata": {},
   "outputs": [],
   "source": [
    "x0 = dflow.review_appearance\n",
    "x1 = dflow.review_aroma\n",
    "x2 = dflow.review_overall\n",
    "x3 = dflow.review_palate\n",
    "x4 = dflow.review_taste\n",
    "\n",
    "fig = go.Figure()\n",
    "fig.add_trace(go.Histogram(x=x0, name='Review Appearance'))\n",
    "fig.add_trace(go.Histogram(x=x1,  name='Review Aroma'))\n",
    "fig.add_trace(go.Histogram(x=x2, name='Review Overall'))\n",
    "fig.add_trace(go.Histogram(x=x3, name='Review Palate'))\n",
    "fig.add_trace(go.Histogram(x=x4, name=\"Review Taste\"))\n",
    "\n",
    "# Reduce opacity to see both histograms\n",
    "fig.update_traces(opacity=0.75)\n",
    "fig.update_layout(title_text = 'Distribution of Reviews - Low Ratings',\n",
    "                 xaxis_title_text='Review Score',\n",
    "                 yaxis_title_text='Count',\n",
    "                 bargap=0.2)\n",
    "fig.show()"
   ]
  },
  {
   "cell_type": "markdown",
   "metadata": {},
   "source": [
    "Unsurprisingly, beers with ratings under 3 scored lower on all categories. The biggest difference appears to be in the review_taste category, and the smallest is review_appearance. This suggests that taste is ultimately the most important feature in a beer. "
   ]
  },
  {
   "cell_type": "code",
   "execution_count": null,
   "metadata": {},
   "outputs": [],
   "source": []
  },
  {
   "cell_type": "code",
   "execution_count": null,
   "metadata": {},
   "outputs": [],
   "source": []
  },
  {
   "cell_type": "code",
   "execution_count": null,
   "metadata": {},
   "outputs": [],
   "source": []
  },
  {
   "cell_type": "code",
   "execution_count": null,
   "metadata": {},
   "outputs": [],
   "source": []
  },
  {
   "cell_type": "code",
   "execution_count": null,
   "metadata": {},
   "outputs": [],
   "source": []
  },
  {
   "cell_type": "code",
   "execution_count": null,
   "metadata": {},
   "outputs": [],
   "source": []
  },
  {
   "cell_type": "code",
   "execution_count": null,
   "metadata": {},
   "outputs": [],
   "source": []
  }
 ],
 "metadata": {
  "kernelspec": {
   "display_name": "Python 3",
   "language": "python",
   "name": "python3"
  },
  "language_info": {
   "codemirror_mode": {
    "name": "ipython",
    "version": 3
   },
   "file_extension": ".py",
   "mimetype": "text/x-python",
   "name": "python",
   "nbconvert_exporter": "python",
   "pygments_lexer": "ipython3",
   "version": "3.7.3"
  }
 },
 "nbformat": 4,
 "nbformat_minor": 2
}
