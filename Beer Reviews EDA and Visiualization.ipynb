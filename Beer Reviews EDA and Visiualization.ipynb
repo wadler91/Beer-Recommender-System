{
 "cells": [
  {
   "cell_type": "code",
   "execution_count": null,
   "metadata": {},
   "outputs": [],
   "source": [
    "import pandas as pd\n",
    "import numpy as np\n",
    "\n",
    "from plotly.offline import download_plotlyjs, init_notebook_mode, plot, iplot\n",
    "import plotly as py\n",
    "import plotly.graph_objs as go\n",
    "import plotly.express as px\n",
    "\n",
    "import cufflinks as cf\n",
    "cf.go_offline(connected=True)\n",
    "init_notebook_mode(connected=True)"
   ]
  },
  {
   "cell_type": "code",
   "execution_count": null,
   "metadata": {},
   "outputs": [],
   "source": [
    "cf.set_config_file(theme='polar')"
   ]
  },
  {
   "cell_type": "markdown",
   "metadata": {},
   "source": [
    "## Beer Reviews Visualization"
   ]
  },
  {
   "cell_type": "markdown",
   "metadata": {},
   "source": [
    "Beer Reviews Visualization\n",
    "\n",
    "This dataset contains 1.5 million beer reviews sourced from BeerAdvocate. We will examine the distrobution of the reviews, as well as the most popular (and least popular) beer styles and breweries."
   ]
  },
  {
   "cell_type": "code",
   "execution_count": null,
   "metadata": {
    "scrolled": true
   },
   "outputs": [],
   "source": [
    "df = pd.read_csv('beer_reviews_clean.csv')\n",
    "df.head()"
   ]
  },
  {
   "cell_type": "code",
   "execution_count": null,
   "metadata": {},
   "outputs": [],
   "source": [
    "print('Number of unique breweries:', df.brewery_name.nunique())\n",
    "print('Number of unique beer styles:', df.beer_style.nunique())\n",
    "print('Number of beers reviewed:', df.beer_name.nunique())"
   ]
  },
  {
   "cell_type": "markdown",
   "metadata": {},
   "source": [
    "## Review Scores"
   ]
  },
  {
   "cell_type": "code",
   "execution_count": null,
   "metadata": {},
   "outputs": [],
   "source": [
    "x0 = df.review_appearance\n",
    "x1 = df.review_aroma\n",
    "x2 = df.review_overall\n",
    "x3 = df.review_palate\n",
    "x4 = df.review_taste\n",
    "\n",
    "fig = go.Figure()\n",
    "fig.add_trace(go.Histogram(x=x0, name='Review Appearance'))\n",
    "fig.add_trace(go.Histogram(x=x1,  name='Review Aroma'))\n",
    "fig.add_trace(go.Histogram(x=x2, name='Review Overall'))\n",
    "fig.add_trace(go.Histogram(x=x3, name='Review Palate'))\n",
    "fig.add_trace(go.Histogram(x=x4, name=\"Review Taste\"))\n",
    "\n",
    "fig.update_traces(opacity=0.75)\n",
    "fig.update_layout(title_text = 'Distribution of Reviews',\n",
    "                 xaxis_title_text='Review Score',\n",
    "                 yaxis_title_text='Count',\n",
    "                 bargap=0.2)\n",
    "fig.show()"
   ]
  },
  {
   "cell_type": "markdown",
   "metadata": {},
   "source": [
    "It appears that the users in this dataset are most likely to give a rating of 4 across all categories. There seem to be more good reviews than bad."
   ]
  },
  {
   "cell_type": "code",
   "execution_count": null,
   "metadata": {},
   "outputs": [],
   "source": [
    "dfhigh = df.loc[df['review_overall'] >= 3]\n",
    "dflow= df.loc[df['review_overall'] <= 2.5]"
   ]
  },
  {
   "cell_type": "code",
   "execution_count": null,
   "metadata": {},
   "outputs": [],
   "source": [
    "x0 = dfhigh.review_appearance\n",
    "x1 = dfhigh.review_aroma\n",
    "x2 = dfhigh.review_overall\n",
    "x3 = dfhigh.review_palate\n",
    "x4 = dfhigh.review_taste\n",
    "\n",
    "fig = go.Figure()\n",
    "fig.add_trace(go.Histogram(x=x0, name='Review Appearance'))\n",
    "fig.add_trace(go.Histogram(x=x1,  name='Review Aroma'))\n",
    "fig.add_trace(go.Histogram(x=x2, name='Review Overall'))\n",
    "fig.add_trace(go.Histogram(x=x3, name='Review Palate'))\n",
    "fig.add_trace(go.Histogram(x=x4, name=\"Review Taste\"))\n",
    "\n",
    "# Reduce opacity to see both histograms\n",
    "fig.update_traces(opacity=0.75)\n",
    "fig.update_layout(title_text = 'Distribution of Reviews - Highly Rated',\n",
    "                 xaxis_title_text='Review Score',\n",
    "                 yaxis_title_text='Count',\n",
    "                 bargap=0.2)\n",
    "fig.show()"
   ]
  },
  {
   "cell_type": "code",
   "execution_count": null,
   "metadata": {},
   "outputs": [],
   "source": [
    "x0 = dflow.review_appearance\n",
    "x1 = dflow.review_aroma\n",
    "x2 = dflow.review_overall\n",
    "x3 = dflow.review_palate\n",
    "x4 = dflow.review_taste\n",
    "\n",
    "fig = go.Figure()\n",
    "fig.add_trace(go.Histogram(x=x0, name='Review Appearance'))\n",
    "fig.add_trace(go.Histogram(x=x1,  name='Review Aroma'))\n",
    "fig.add_trace(go.Histogram(x=x2, name='Review Overall'))\n",
    "fig.add_trace(go.Histogram(x=x3, name='Review Palate'))\n",
    "fig.add_trace(go.Histogram(x=x4, name=\"Review Taste\"))\n",
    "\n",
    "# Reduce opacity to see both histograms\n",
    "fig.update_traces(opacity=0.75)\n",
    "fig.update_layout(title_text = 'Distribution of Reviews - Low Ratings',\n",
    "                 xaxis_title_text='Review Score',\n",
    "                 yaxis_title_text='Count',\n",
    "                 bargap=0.2)\n",
    "fig.show()"
   ]
  },
  {
   "cell_type": "markdown",
   "metadata": {},
   "source": [
    "Unsurprisingly, beers with ratings under 3 scored lower on all categories. The biggest difference appears to be in the review_taste category, and the smallest is review_appearance. This suggests that taste is ultimately the most important feature in a beer."
   ]
  },
  {
   "cell_type": "markdown",
   "metadata": {},
   "source": [
    "## Alcohol By Volume"
   ]
  },
  {
   "cell_type": "code",
   "execution_count": null,
   "metadata": {},
   "outputs": [],
   "source": [
    "x = df['beer_abv'].sort_values(ascending=False)\n",
    "\n",
    "fig= go.Figure()\n",
    "fig.add_trace(go.Histogram(x=x/100, nbinsx=100, histfunc=\"count\", name='count'))\n",
    "\n",
    "fig.update_layout(\n",
    "    title_text='Beer ABV',\n",
    "    bargap=0.2,\n",
    "    xaxis=dict(title=\"Percent Alcohol by Volume\",\n",
    "            tickformat = \"%\",\n",
    "            hoverformat = '.2%'),\n",
    "    yaxis_title='Count')\n",
    "fig.show()"
   ]
  },
  {
   "cell_type": "markdown",
   "metadata": {},
   "source": [
    "The most represented alcohol by volume percentage is 5 - 5.99%. Most of the data falls between 4 and 10% ABV, with some outliers at the extreme ends of the spectrum. "
   ]
  },
  {
   "cell_type": "markdown",
   "metadata": {},
   "source": [
    "## Beer Style Counts"
   ]
  },
  {
   "cell_type": "code",
   "execution_count": null,
   "metadata": {
    "scrolled": false
   },
   "outputs": [],
   "source": [
    "df.beer_style.value_counts().head(20).iplot(kind='barh', title='Top 20 Beer Styles')"
   ]
  },
  {
   "cell_type": "code",
   "execution_count": null,
   "metadata": {},
   "outputs": [],
   "source": [
    "df.beer_style.value_counts().tail(20).iplot(kind='barh', title='Bottom 20 Beer Styles')"
   ]
  },
  {
   "cell_type": "markdown",
   "metadata": {},
   "source": [
    "The most commonly reviewed beer is clearly the American IPA, with over 100,000 reviews. Interestingly over half of the beers in the top 20 are American styles. While we don't have data on user location, I would guess that most of the users in this dataset are American. The least reviewed beer styles are Kvass and Happoshu, both of which are beer-like beverages but arguably not actual beer. The next least reviewed is Roggenbier, a medieval style rye beer. "
   ]
  },
  {
   "cell_type": "markdown",
   "metadata": {},
   "source": [
    "## Brewery Counts"
   ]
  },
  {
   "cell_type": "code",
   "execution_count": null,
   "metadata": {},
   "outputs": [],
   "source": [
    "df.brewery_name.value_counts().head(20).iplot(kind='barh', title='Top 20 Breweries')"
   ]
  },
  {
   "cell_type": "code",
   "execution_count": null,
   "metadata": {},
   "outputs": [],
   "source": [
    "df.brewery_name.value_counts().tail(20).iplot(kind='barh', title='Bottom 20 Breweries')"
   ]
  },
  {
   "cell_type": "markdown",
   "metadata": {},
   "source": [
    "Boston Beer Company (Samuel Adams) takes the prize for highest number of reviews with over 38,000 reviews. The Bottom 20 are all tied at one review each. "
   ]
  },
  {
   "cell_type": "markdown",
   "metadata": {},
   "source": [
    "## Rating By ABV"
   ]
  },
  {
   "cell_type": "code",
   "execution_count": null,
   "metadata": {},
   "outputs": [],
   "source": [
    "fig = px.scatter(x=df.review_overall, y=df.beer_abv/100, color=df.beer_style)\n",
    "fig.update_layout(title_text='Beer Ratings by ABV', xaxis_title_text='Rating', yaxis_title_text='ABV', yaxis_tickformat='%')\n",
    "fig.show()"
   ]
  },
  {
   "cell_type": "markdown",
   "metadata": {},
   "source": [
    "There does not seem to be a correlation between overall rating and ABV."
   ]
  },
  {
   "cell_type": "markdown",
   "metadata": {},
   "source": [
    "## Strongest and Weakest Beers"
   ]
  },
  {
   "cell_type": "code",
   "execution_count": null,
   "metadata": {},
   "outputs": [],
   "source": [
    "top20abv = df[['beer_name', 'brewery_name', 'beer_abv', 'beer_style']].sort_values('beer_abv', ascending=False).drop_duplicates('beer_name').head(20)\n",
    "\n",
    "p = [go.Bar(x = top20abv['beer_abv'] / 100,\n",
    "            y = top20abv['beer_name'],\n",
    "            hoverinfo = 'x',\n",
    "            text=top20abv['brewery_name'],\n",
    "            textposition = 'inside',\n",
    "            orientation='h',\n",
    "            opacity=0.7, \n",
    "            marker=dict(\n",
    "                color='rgb(1, 87, 155)'\n",
    "            ))]\n",
    "\n",
    "layout = go.Layout(title='Top 20 Strongest Beers by ABV',\n",
    "                   xaxis=dict(title=\"ABV\",\n",
    "                              tickformat = \"%\",\n",
    "                              hoverformat = '.2%'),\n",
    "                   margin = dict(l = 220))\n",
    "\n",
    "fig = go.Figure(data=p, layout=layout)\n",
    "\n",
    "py.offline.iplot(fig)"
   ]
  },
  {
   "cell_type": "code",
   "execution_count": null,
   "metadata": {},
   "outputs": [],
   "source": [
    "btm20abv = df[['beer_name', 'brewery_name', 'beer_abv', 'beer_style']].sort_values('beer_abv', ascending=False).drop_duplicates('beer_name').tail(20)\n",
    "\n",
    "p = [go.Bar(x = btm20abv['beer_abv'] / 100,\n",
    "            y = btm20abv['beer_name'],\n",
    "            hoverinfo = 'x',\n",
    "            text=btm20abv['brewery_name'],\n",
    "            textposition = 'inside',\n",
    "            orientation='h',\n",
    "            opacity=0.7, \n",
    "            marker=dict(\n",
    "                color='rgb(1, 87, 155)'\n",
    "            ))]\n",
    "\n",
    "layout = go.Layout(title='Top 20 Weakest Beers by ABV',\n",
    "                   xaxis=dict(title=\"ABV\",\n",
    "                              tickformat = \"%\",\n",
    "                              hoverformat = '.2%'),\n",
    "                   margin = dict(l = 220))\n",
    "\n",
    "fig = go.Figure(data=p, layout=layout)\n",
    "\n",
    "py.offline.iplot(fig)"
   ]
  },
  {
   "cell_type": "markdown",
   "metadata": {},
   "source": [
    "The strongest beer reviewed is the Schorsbrau Schorsbock at a whopping 57% alcohol by volume, higher than most hard liquors. The lowest is Liber at 0.01%"
   ]
  },
  {
   "cell_type": "markdown",
   "metadata": {},
   "source": [
    "## Top/Bottom 50 reviews"
   ]
  },
  {
   "cell_type": "markdown",
   "metadata": {},
   "source": [
    "In this section we will examine both the highest and lowest scoring 50 reviews for beer name, style and brewery"
   ]
  },
  {
   "cell_type": "code",
   "execution_count": null,
   "metadata": {},
   "outputs": [],
   "source": [
    "top20beers = df[['beer_name', 'brewery_name', 'review_overall']].sort_values('review_overall', ascending=False).head(50)\n",
    "                                                                                                                    \n",
    "top20beers.beer_name.iplot(kind='hist', title='Top Rated Beers', yTitle='Number of 5 Star Reviews')                                                                                                                   "
   ]
  },
  {
   "cell_type": "code",
   "execution_count": null,
   "metadata": {},
   "outputs": [],
   "source": [
    "btm20beers = df[['beer_name', 'brewery_name', 'review_overall']].sort_values('review_overall', ascending=False).tail(50)\n",
    "\n",
    "btm20beers.beer_name.iplot(kind='hist', title='Worst Rated Beers', yTitle='Number of 1 Star Reviews')"
   ]
  },
  {
   "cell_type": "markdown",
   "metadata": {},
   "source": [
    "The most highly reviewed beer is the Big Eye IPA, with 6 five star ratings. The lowest is the Bud Light Chelada, with 19 one star ratings. "
   ]
  },
  {
   "cell_type": "code",
   "execution_count": null,
   "metadata": {},
   "outputs": [],
   "source": [
    "top20styles = df[['beer_name', 'brewery_name', 'review_overall', 'beer_style']].sort_values('review_overall', ascending=False).head(50)\n",
    "\n",
    "top20styles.beer_style.iplot(kind='hist', title='Top Rated Styles', yTitle='Number of 5 Star Reviews')"
   ]
  },
  {
   "cell_type": "code",
   "execution_count": null,
   "metadata": {},
   "outputs": [],
   "source": [
    "btm20styles = df[['beer_name', 'brewery_name', 'review_overall', 'beer_style']].sort_values('review_overall', ascending=False).tail(50)\n",
    "\n",
    "btm20styles.beer_style.iplot(kind='hist', title='Worst Rated Styles', yTitle='Number of 1 Star Reviews')"
   ]
  },
  {
   "cell_type": "markdown",
   "metadata": {},
   "source": [
    "American IPA is unsurprisingly the beer with the most five star reviews, and also the most frequently reviewed beer. Fruit/Vegetable beer seems to be the leasat popular style, with 19 one star reviews. The very unpopular Bud Light Chelada from above is a Fruit/Vegetable beer. The mean rating for the style is 3.4, so this result may be unfairly being dragged down by the unpopular Bud Light Chelada. "
   ]
  },
  {
   "cell_type": "code",
   "execution_count": null,
   "metadata": {},
   "outputs": [],
   "source": [
    "vegbeer = df.loc[df['beer_style']=='Fruit / Vegetable Beer']\n",
    "print(np.mean(vegbeer.review_overall), np.median(vegbeer.review_overall))"
   ]
  },
  {
   "cell_type": "code",
   "execution_count": null,
   "metadata": {},
   "outputs": [],
   "source": [
    "top20styles.brewery_name.iplot(kind='hist', title='Top Rated Breweries', yTitle='Number of 5 Star Reviews')"
   ]
  },
  {
   "cell_type": "code",
   "execution_count": null,
   "metadata": {},
   "outputs": [],
   "source": [
    "btm20styles.brewery_name.iplot(kind='hist', title='Worst Rated Breweries', yTitle='Number of 1 Star Reviews')"
   ]
  },
  {
   "cell_type": "markdown",
   "metadata": {},
   "source": [
    "The Ballast Point Brewing Company and Southhampton Publick House are tied for most five star reviews with 6 apiece. Anheuser-Busch is clearly the lowest rated brewery here with 32 one star reviews."
   ]
  }
 ],
 "metadata": {
  "kernelspec": {
   "display_name": "Python 3",
   "language": "python",
   "name": "python3"
  },
  "language_info": {
   "codemirror_mode": {
    "name": "ipython",
    "version": 3
   },
   "file_extension": ".py",
   "mimetype": "text/x-python",
   "name": "python",
   "nbconvert_exporter": "python",
   "pygments_lexer": "ipython3",
   "version": "3.7.3"
  }
 },
 "nbformat": 4,
 "nbformat_minor": 2
}
