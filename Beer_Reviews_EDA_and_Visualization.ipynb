{
 "cells": [
  {
   "cell_type": "code",
   "execution_count": null,
   "metadata": {
    "colab": {
     "base_uri": "https://localhost:8080/",
     "height": 17
    },
    "colab_type": "code",
    "id": "2ygLIKvUpTWU",
    "outputId": "809af05f-8636-4800-e3c9-695322d92220"
   },
   "outputs": [],
   "source": [
    "import pandas as pd\n",
    "import numpy as np\n",
    "\n",
    "from plotly.offline import download_plotlyjs, init_notebook_mode, plot, iplot\n",
    "import plotly as py\n",
    "import plotly.graph_objs as go\n",
    "import plotly.express as px\n",
    "\n",
    "import cufflinks as cf\n",
    "cf.go_offline(connected=True)\n",
    "init_notebook_mode(connected=True)"
   ]
  },
  {
   "cell_type": "markdown",
   "metadata": {},
   "source": [
    "## Link with full visualizations"
   ]
  },
  {
   "cell_type": "markdown",
   "metadata": {},
   "source": [
    "This notebook exceeded github's filesize limit with all cells run, please visit https://www.kaggle.com/wadler/kernel5b8f4a9663 to view the notebook in its entirety. "
   ]
  },
  {
   "cell_type": "code",
   "execution_count": null,
   "metadata": {
    "colab": {},
    "colab_type": "code",
    "id": "Wie-4KXTpTW8"
   },
   "outputs": [],
   "source": [
    "cf.set_config_file(theme='polar')"
   ]
  },
  {
   "cell_type": "markdown",
   "metadata": {
    "colab_type": "text",
    "id": "2LqII1f3pTXa"
   },
   "source": [
    "## Beer Reviews Visualization"
   ]
  },
  {
   "cell_type": "markdown",
   "metadata": {
    "colab_type": "text",
    "id": "XQxdPD3epTXd"
   },
   "source": [
    "Beer Reviews Visualization\n",
    "\n",
    "This dataset contains 1.5 million beer reviews sourced from BeerAdvocate. We will examine the distribution of the reviews, as well as the most popular (and least popular) beers, beer styles and breweries."
   ]
  },
  {
   "cell_type": "code",
   "execution_count": null,
   "metadata": {
    "colab": {
     "base_uri": "https://localhost:8080/",
     "height": 348
    },
    "colab_type": "code",
    "id": "KsPU4G2KpTXh",
    "outputId": "1e42435d-5fee-43ca-c97d-05faf51c2b3e",
    "scrolled": true
   },
   "outputs": [],
   "source": [
    "df = pd.read_csv('beer_reviews_clean.csv')\n",
    "df.head()"
   ]
  },
  {
   "cell_type": "code",
   "execution_count": null,
   "metadata": {
    "colab": {
     "base_uri": "https://localhost:8080/",
     "height": 72
    },
    "colab_type": "code",
    "id": "2PRpKh-kpTX3",
    "outputId": "d20ccae4-8f1a-4cdf-97ec-7790bf132b47"
   },
   "outputs": [],
   "source": [
    "print('Number of unique breweries:', df.brewery_name.nunique())\n",
    "print('Number of unique beer styles:', df.beer_style.nunique())\n",
    "print('Number of beers reviewed:', df.beer_name.nunique())"
   ]
  },
  {
   "cell_type": "markdown",
   "metadata": {
    "colab_type": "text",
    "id": "mkQkb-bypTYM"
   },
   "source": [
    "## Review Scores"
   ]
  },
  {
   "cell_type": "code",
   "execution_count": null,
   "metadata": {
    "colab": {},
    "colab_type": "code",
    "id": "jAooBBpupTYO"
   },
   "outputs": [],
   "source": [
    "x0 = df.review_appearance\n",
    "x1 = df.review_aroma\n",
    "x2 = df.review_overall\n",
    "x3 = df.review_palate\n",
    "x4 = df.review_taste\n",
    "\n",
    "fig = go.Figure()\n",
    "fig.add_trace(go.Histogram(x=x0, name='Review Appearance'))\n",
    "fig.add_trace(go.Histogram(x=x1,  name='Review Aroma'))\n",
    "fig.add_trace(go.Histogram(x=x2, name='Review Overall'))\n",
    "fig.add_trace(go.Histogram(x=x3, name='Review Palate'))\n",
    "fig.add_trace(go.Histogram(x=x4, name=\"Review Taste\"))\n",
    "\n",
    "fig.update_traces(opacity=0.75)\n",
    "fig.update_layout(title_text = 'Distribution of Reviews',\n",
    "                 xaxis_title_text='Review Score',\n",
    "                 yaxis_title_text='Count',\n",
    "                 bargap=0.2)\n",
    "fig.show()"
   ]
  },
  {
   "cell_type": "markdown",
   "metadata": {
    "colab_type": "text",
    "id": "v-_A6zVxpTZv"
   },
   "source": [
    "It appears that the users in this dataset are most likely to give a rating of 4 across all categories. There seem to be more good reviews than bad."
   ]
  },
  {
   "cell_type": "code",
   "execution_count": null,
   "metadata": {
    "colab": {},
    "colab_type": "code",
    "id": "7z4y1TonpTZy"
   },
   "outputs": [],
   "source": [
    "dfhigh = df.loc[df['review_overall'] >= 3]\n",
    "dflow= df.loc[df['review_overall'] <= 2.5]"
   ]
  },
  {
   "cell_type": "code",
   "execution_count": null,
   "metadata": {
    "colab": {},
    "colab_type": "code",
    "id": "TAMPdFappTaE"
   },
   "outputs": [],
   "source": [
    "x0 = dfhigh.review_appearance\n",
    "x1 = dfhigh.review_aroma\n",
    "x2 = dfhigh.review_overall\n",
    "x3 = dfhigh.review_palate\n",
    "x4 = dfhigh.review_taste\n",
    "\n",
    "fig = go.Figure()\n",
    "fig.add_trace(go.Histogram(x=x0, name='Review Appearance'))\n",
    "fig.add_trace(go.Histogram(x=x1,  name='Review Aroma'))\n",
    "fig.add_trace(go.Histogram(x=x2, name='Review Overall'))\n",
    "fig.add_trace(go.Histogram(x=x3, name='Review Palate'))\n",
    "fig.add_trace(go.Histogram(x=x4, name=\"Review Taste\"))\n",
    "\n",
    "# Reduce opacity to see both histograms\n",
    "fig.update_traces(opacity=0.75)\n",
    "fig.update_layout(title_text = 'Distribution of Reviews - Highly Rated',\n",
    "                 xaxis_title_text='Review Score',\n",
    "                 yaxis_title_text='Count',\n",
    "                 bargap=0.2)\n",
    "fig.show()"
   ]
  },
  {
   "cell_type": "code",
   "execution_count": null,
   "metadata": {
    "colab": {},
    "colab_type": "code",
    "id": "QY3JEQVppTbS"
   },
   "outputs": [],
   "source": [
    "x0 = dflow.review_appearance\n",
    "x1 = dflow.review_aroma\n",
    "x2 = dflow.review_overall\n",
    "x3 = dflow.review_palate\n",
    "x4 = dflow.review_taste\n",
    "\n",
    "fig = go.Figure()\n",
    "fig.add_trace(go.Histogram(x=x0, name='Review Appearance'))\n",
    "fig.add_trace(go.Histogram(x=x1,  name='Review Aroma'))\n",
    "fig.add_trace(go.Histogram(x=x2, name='Review Overall'))\n",
    "fig.add_trace(go.Histogram(x=x3, name='Review Palate'))\n",
    "fig.add_trace(go.Histogram(x=x4, name=\"Review Taste\"))\n",
    "\n",
    "# Reduce opacity to see both histograms\n",
    "fig.update_traces(opacity=0.75)\n",
    "fig.update_layout(title_text = 'Distribution of Reviews - Low Ratings',\n",
    "                 xaxis_title_text='Review Score',\n",
    "                 yaxis_title_text='Count',\n",
    "                 bargap=0.2)\n",
    "fig.show()"
   ]
  },
  {
   "cell_type": "markdown",
   "metadata": {
    "colab_type": "text",
    "id": "KK93tHIipTbm"
   },
   "source": [
    "Unsurprisingly, beers with ratings under 3 scored lower on all categories. The biggest difference appears to be in the review_taste category, and the smallest is review_appearance. This suggests that taste is ultimately the most important feature in a beer."
   ]
  },
  {
   "cell_type": "markdown",
   "metadata": {
    "colab_type": "text",
    "id": "BQcAq4QVpTbp"
   },
   "source": [
    "## Alcohol By Volume"
   ]
  },
  {
   "cell_type": "code",
   "execution_count": null,
   "metadata": {
    "colab": {},
    "colab_type": "code",
    "id": "rj7B-VVSpTbs"
   },
   "outputs": [],
   "source": [
    "x = df['beer_abv'].sort_values(ascending=False)\n",
    "\n",
    "fig= go.Figure()\n",
    "fig.add_trace(go.Histogram(x=x/100, nbinsx=100, histfunc=\"count\", name='count'))\n",
    "\n",
    "fig.update_layout(\n",
    "    title_text='Beer ABV',\n",
    "    bargap=0.2,\n",
    "    xaxis=dict(title=\"Percent Alcohol by Volume\",\n",
    "            tickformat = \"%\",\n",
    "            hoverformat = '.2%'),\n",
    "    yaxis_title='Count')\n",
    "fig.show()"
   ]
  },
  {
   "cell_type": "markdown",
   "metadata": {
    "colab_type": "text",
    "id": "moj1trdvpTcH"
   },
   "source": [
    "The most represented alcohol by volume percentage is 5 - 5.99%. Most of the data falls between 4 and 10% ABV, with some outliers at the extreme ends of the spectrum. "
   ]
  },
  {
   "cell_type": "markdown",
   "metadata": {
    "colab_type": "text",
    "id": "-3qPJxe3pTcL"
   },
   "source": [
    "## Which features are most influential?"
   ]
  },
  {
   "cell_type": "code",
   "execution_count": null,
   "metadata": {
    "colab": {},
    "colab_type": "code",
    "id": "KrTpQj1spTcM"
   },
   "outputs": [],
   "source": [
    "corr = df[['review_overall', 'review_aroma', 'review_appearance', 'review_palate', 'review_taste', 'beer_abv']].corr()\n",
    "fig = go.Figure()\n",
    "\n",
    "fig.add_trace(go.Heatmap(\n",
    "    z=corr.values,\n",
    "    x=list(corr.columns),\n",
    "    y=list(corr.index),\n",
    "    colorscale='blues'\n",
    "    ))\n",
    "\n",
    "fig.show()"
   ]
  },
  {
   "cell_type": "markdown",
   "metadata": {
    "colab_type": "text",
    "id": "spxD7yDhpTca"
   },
   "source": [
    "review_taste displays the strongest correlation with review_overall, followed by review_palate. beer_abv does not seem to affect the review scores at all. "
   ]
  },
  {
   "cell_type": "markdown",
   "metadata": {
    "colab_type": "text",
    "id": "QvXAODCcpTcd"
   },
   "source": [
    "## Beer Style Counts"
   ]
  },
  {
   "cell_type": "code",
   "execution_count": null,
   "metadata": {
    "colab": {},
    "colab_type": "code",
    "id": "WKL-j-G4pTce",
    "scrolled": false
   },
   "outputs": [],
   "source": [
    "df.beer_style.value_counts().head(10).iplot(kind='barh', title='10 Most Reviewed Beer Styles')"
   ]
  },
  {
   "cell_type": "code",
   "execution_count": null,
   "metadata": {
    "colab": {},
    "colab_type": "code",
    "id": "S6JiVT1CpTct"
   },
   "outputs": [],
   "source": [
    "df.beer_style.value_counts().tail(10).iplot(kind='barh', title='10 Least Reviewed Beer Styles')"
   ]
  },
  {
   "cell_type": "markdown",
   "metadata": {
    "colab_type": "text",
    "id": "3RKIBSUYpTc3"
   },
   "source": [
    "The most commonly reviewed beer is clearly the American IPA, with over 100,000 reviews. Interestingly over half of the beers in the top 20 are American styles. While we don't have data on user location, I would guess that most of the users in this dataset are American. The least reviewed beer styles are Kvass and Happoshu, both of which are beer-like beverages but arguably not actual beer. The next least reviewed is Roggenbier, a medieval style rye beer. "
   ]
  },
  {
   "cell_type": "markdown",
   "metadata": {
    "colab_type": "text",
    "id": "jsczyUI9pTc5"
   },
   "source": [
    "## Top 10 Beers"
   ]
  },
  {
   "cell_type": "code",
   "execution_count": null,
   "metadata": {
    "colab": {},
    "colab_type": "code",
    "id": "7Z9Bv4n_pTc8"
   },
   "outputs": [],
   "source": [
    "y = df['beer_name'].value_counts().sort_values(ascending=False).head(10).iplot(kind='barh', title='10 Most Reviewed Beers')"
   ]
  },
  {
   "cell_type": "markdown",
   "metadata": {
    "colab_type": "text",
    "id": "FNp-0PCOpTdJ"
   },
   "source": [
    "## Brewery Counts"
   ]
  },
  {
   "cell_type": "code",
   "execution_count": null,
   "metadata": {
    "colab": {},
    "colab_type": "code",
    "id": "CNVdDLfypTdL"
   },
   "outputs": [],
   "source": [
    "df.brewery_name.value_counts().head(10).iplot(kind='barh', title='Top 10 Most Reviewed Breweries')"
   ]
  },
  {
   "cell_type": "code",
   "execution_count": null,
   "metadata": {
    "colab": {},
    "colab_type": "code",
    "id": "Q8mdJHtMpTdT"
   },
   "outputs": [],
   "source": [
    "df.brewery_name.value_counts().tail(10).iplot(kind='barh', title='Least Reviewed Breweries')"
   ]
  },
  {
   "cell_type": "markdown",
   "metadata": {
    "colab_type": "text",
    "id": "KD1krC3GpTdd"
   },
   "source": [
    "Boston Beer Company (Samuel Adams) takes the prize for highest number of reviews with over 38,000 reviews. The Bottom 20 are all tied at one review each. "
   ]
  },
  {
   "cell_type": "markdown",
   "metadata": {
    "colab_type": "text",
    "id": "5434WAkjpTde"
   },
   "source": [
    "## Strongest and Weakest Beers"
   ]
  },
  {
   "cell_type": "code",
   "execution_count": null,
   "metadata": {
    "colab": {},
    "colab_type": "code",
    "id": "7CqBnEGwpTdg"
   },
   "outputs": [],
   "source": [
    "top20abv = df[['beer_name', 'brewery_name', 'beer_abv', 'beer_style']].sort_values('beer_abv', ascending=False).drop_duplicates('beer_name').head(10)\n",
    "\n",
    "p = [go.Bar(x = top20abv['beer_abv'] / 100,\n",
    "            y = top20abv['beer_name'],\n",
    "            hoverinfo = 'x',\n",
    "            text=top20abv['brewery_name'],\n",
    "            textposition = 'inside',\n",
    "            orientation='h',\n",
    "            opacity=0.7, \n",
    "            marker=dict(\n",
    "                color='rgb(1, 87, 155)'\n",
    "            ))]\n",
    "\n",
    "layout = go.Layout(title='Top 10 Strongest Beers by ABV',\n",
    "                   xaxis=dict(title=\"ABV\",\n",
    "                              tickformat = \"%\",\n",
    "                              hoverformat = '.2%'),\n",
    "                   margin = dict(l = 220))\n",
    "\n",
    "fig = go.Figure(data=p, layout=layout)\n",
    "\n",
    "py.offline.iplot(fig)"
   ]
  },
  {
   "cell_type": "code",
   "execution_count": null,
   "metadata": {
    "colab": {},
    "colab_type": "code",
    "id": "BqUvGyFPpTdr"
   },
   "outputs": [],
   "source": [
    "btm20abv = df[['beer_name', 'brewery_name', 'beer_abv', 'beer_style']].sort_values('beer_abv', ascending=False).drop_duplicates('beer_name').tail(10)\n",
    "\n",
    "p = [go.Bar(x = btm20abv['beer_abv'] / 100,\n",
    "            y = btm20abv['beer_name'],\n",
    "            hoverinfo = 'x',\n",
    "            text=btm20abv['brewery_name'],\n",
    "            textposition = 'inside',\n",
    "            orientation='h',\n",
    "            opacity=0.7, \n",
    "            marker=dict(\n",
    "                color='rgb(1, 87, 155)'\n",
    "            ))]\n",
    "\n",
    "layout = go.Layout(title='Top 10 Weakest Beers by ABV',\n",
    "                   xaxis=dict(title=\"ABV\",\n",
    "                              tickformat = \"%\",\n",
    "                              hoverformat = '.2%'),\n",
    "                   margin = dict(l = 220))\n",
    "\n",
    "fig = go.Figure(data=p, layout=layout)\n",
    "\n",
    "py.offline.iplot(fig)"
   ]
  },
  {
   "cell_type": "markdown",
   "metadata": {
    "colab_type": "text",
    "id": "Iz4NcM-ZpTdz"
   },
   "source": [
    "The strongest beer reviewed is the Schorsbrau Schorsbock at a whopping 57% alcohol by volume, higher than most hard liquors. The lowest is Liber at 0.01%"
   ]
  },
  {
   "cell_type": "markdown",
   "metadata": {
    "colab_type": "text",
    "id": "24FMvaKopTd1"
   },
   "source": [
    "## Best and Worst Reviews"
   ]
  },
  {
   "cell_type": "markdown",
   "metadata": {
    "colab_type": "text",
    "id": "WUkXtuagpTd4"
   },
   "source": [
    "While before we viewed the most frequently reviewed beers, this section will examine both the best and worst reviews by beer, style, and brewery. First we will create a \"review average\" column, taking the average of all the review variables for each beer. "
   ]
  },
  {
   "cell_type": "code",
   "execution_count": null,
   "metadata": {
    "colab": {},
    "colab_type": "code",
    "id": "VLr3XhLYpTd6"
   },
   "outputs": [],
   "source": [
    "df['review_average'] = df.apply(lambda x: (x.review_overall + x.review_aroma + x.review_appearance + x.review_palate + x.review_taste) / 5, axis=1)"
   ]
  },
  {
   "cell_type": "code",
   "execution_count": null,
   "metadata": {
    "colab": {},
    "colab_type": "code",
    "id": "Zr3ndIo9pTeC"
   },
   "outputs": [],
   "source": [
    "df['total_reviews'] = 0\n",
    "\n",
    "beers_grouped = df.groupby(['beer_beerid']).agg(dict(beer_name='first', brewery_name='first', beer_style = 'first', total_reviews='count', review_appearance='mean', review_overall='median', review_taste='mean', review_aroma='mean', review_average='mean', review_palate='mean')).reset_index()"
   ]
  },
  {
   "cell_type": "code",
   "execution_count": null,
   "metadata": {
    "colab": {},
    "colab_type": "code",
    "id": "t03ybM7DpTeK"
   },
   "outputs": [],
   "source": [
    "beers_grouped.head()"
   ]
  },
  {
   "cell_type": "code",
   "execution_count": null,
   "metadata": {
    "colab": {},
    "colab_type": "code",
    "id": "crhitL1HpTeU"
   },
   "outputs": [],
   "source": [
    "beers_grouped.describe()"
   ]
  },
  {
   "cell_type": "markdown",
   "metadata": {
    "colab_type": "text",
    "id": "P9UALuLQpTei"
   },
   "source": [
    "After grouping the beers so we can see how many times each has been reviewed, we can see that the average amount of reviews for each beer is around 30, and the standard deviation is quite high in this category. Everything up to the 50% quantile is below 3 reviews per beer! For a more accurate representation of the highest reviewed beers, we will limit our data to only beers that have been reviewed at least 100 times. "
   ]
  },
  {
   "cell_type": "code",
   "execution_count": null,
   "metadata": {
    "colab": {},
    "colab_type": "code",
    "id": "FQcXvRm5pTej"
   },
   "outputs": [],
   "source": [
    "top_reviews = beers_grouped.loc[beers_grouped['total_reviews'] >= 100]"
   ]
  },
  {
   "cell_type": "code",
   "execution_count": null,
   "metadata": {
    "colab": {},
    "colab_type": "code",
    "id": "3WJA42qmpTeu"
   },
   "outputs": [],
   "source": [
    "top_reviews.head()"
   ]
  },
  {
   "cell_type": "code",
   "execution_count": null,
   "metadata": {
    "colab": {},
    "colab_type": "code",
    "id": "MgAEhmlbpTe5"
   },
   "outputs": [],
   "source": [
    "top_beers = top_reviews.sort_values('review_average',ascending=False).head(15)"
   ]
  },
  {
   "cell_type": "code",
   "execution_count": null,
   "metadata": {
    "colab": {},
    "colab_type": "code",
    "id": "40MHcCE4pTfA"
   },
   "outputs": [],
   "source": [
    "btm_beers = top_reviews.sort_values('review_average',ascending=False).tail(15)"
   ]
  },
  {
   "cell_type": "code",
   "execution_count": null,
   "metadata": {
    "colab": {},
    "colab_type": "code",
    "id": "2jozijnnpTfH"
   },
   "outputs": [],
   "source": [
    "x = top_beers['review_average']\n",
    "y = top_beers['beer_name']\n",
    "\n",
    "p = [go.Bar(x = x,\n",
    "            y = y,\n",
    "            hoverinfo = 'x',\n",
    "            text=top_beers['brewery_name'],\n",
    "            textposition = 'inside',\n",
    "            orientation='h',\n",
    "            opacity=0.7, \n",
    "            marker=dict(\n",
    "                color='rgb(1, 87, 155)'\n",
    "            ))]\n",
    "\n",
    "layout = go.Layout(title='Top 15 Beers by Review Average',\n",
    "                   xaxis=dict(title=\"Review Average\"),\n",
    "                   margin = dict(l = 220))\n",
    "\n",
    "fig = go.Figure(data=p, layout=layout)\n",
    "\n",
    "py.offline.iplot(fig)"
   ]
  },
  {
   "cell_type": "code",
   "execution_count": null,
   "metadata": {
    "colab": {},
    "colab_type": "code",
    "id": "PXPQawfjpTfN"
   },
   "outputs": [],
   "source": [
    "x = btm_beers['review_average']\n",
    "y = btm_beers['beer_name']\n",
    "\n",
    "p = [go.Bar(x = x,\n",
    "            y = y,\n",
    "            hoverinfo = 'x',\n",
    "            text=btm_beers['brewery_name'],\n",
    "            textposition = 'inside',\n",
    "            orientation='h',\n",
    "            opacity=0.7, \n",
    "            marker=dict(\n",
    "                color='rgb(1, 87, 155)'\n",
    "            ))]\n",
    "\n",
    "layout = go.Layout(title='Bottom 15 Beers by Review Average',\n",
    "                   xaxis=dict(title=\"Review Average\"),\n",
    "                   margin = dict(l = 220))\n",
    "\n",
    "fig = go.Figure(data=p, layout=layout)\n",
    "\n",
    "py.offline.iplot(fig)"
   ]
  },
  {
   "cell_type": "markdown",
   "metadata": {
    "colab_type": "text",
    "id": "-OBzTHv9pTfd"
   },
   "source": [
    "The thing that stands out to me most from these plots is that the bottom 15 is almost exclusively populated with American macro-brewed beers, particularly frorm Anheuser-Busch. The users here clearly prefer craft beer! Also of note is the fact that Russian River Brewing has not only the top rated beer, but two other appearances in the top 15. "
   ]
  },
  {
   "cell_type": "code",
   "execution_count": null,
   "metadata": {
    "colab": {},
    "colab_type": "code",
    "id": "80PSfUecpTfe"
   },
   "outputs": [],
   "source": [
    "top_breweries = top_reviews.groupby('brewery_name').agg(dict(brewery_name='first', review_average='mean')).sort_values('review_average', ascending=False)\n",
    "top_brew = top_breweries.head(15)\n",
    "btm_brew = top_breweries.tail(15)"
   ]
  },
  {
   "cell_type": "code",
   "execution_count": null,
   "metadata": {
    "colab": {},
    "colab_type": "code",
    "id": "bVxeAjumpTfm"
   },
   "outputs": [],
   "source": [
    "x = top_brew['review_average']\n",
    "y = top_brew['brewery_name']\n",
    "\n",
    "p = [go.Bar(x = x,\n",
    "            y = y,\n",
    "            hoverinfo = 'x',\n",
    "            text=top_brew['review_average'],\n",
    "            textposition = 'inside',\n",
    "            orientation='h',\n",
    "            opacity=0.7, \n",
    "            marker=dict(\n",
    "                color='rgb(1, 87, 155)'\n",
    "            ))]\n",
    "\n",
    "layout = go.Layout(title='Top 15 Breweries by Review Average',\n",
    "                   xaxis=dict(title=\"Review Average\"),\n",
    "                   margin = dict(l = 220))\n",
    "\n",
    "fig = go.Figure(data=p, layout=layout)\n",
    "\n",
    "py.offline.iplot(fig)"
   ]
  },
  {
   "cell_type": "code",
   "execution_count": null,
   "metadata": {
    "colab": {},
    "colab_type": "code",
    "id": "vKeO_qdrpTfu"
   },
   "outputs": [],
   "source": [
    "x = btm_brew['review_average']\n",
    "y = btm_brew['brewery_name']\n",
    "\n",
    "p = [go.Bar(x = x,\n",
    "            y = y,\n",
    "            hoverinfo = 'x',\n",
    "            text=btm_brew['review_average'],\n",
    "            textposition = 'inside',\n",
    "            orientation='h',\n",
    "            opacity=0.7, \n",
    "            marker=dict(\n",
    "                color='rgb(1, 87, 155)'\n",
    "            ))]\n",
    "\n",
    "layout = go.Layout(title='Bottom 15 Breweries by Review Average',\n",
    "                   xaxis=dict(title=\"Review Average\"),\n",
    "                   margin = dict(l = 220))\n",
    "\n",
    "fig = go.Figure(data=p, layout=layout)\n",
    "\n",
    "py.offline.iplot(fig)"
   ]
  },
  {
   "cell_type": "code",
   "execution_count": null,
   "metadata": {
    "colab": {},
    "colab_type": "code",
    "id": "p1MjhSRWpTf2"
   },
   "outputs": [],
   "source": [
    "top_styles = top_reviews.groupby('beer_style').agg(dict(beer_style='first', review_average='mean')).sort_values('review_average', ascending=False)\n",
    "top_style = top_styles.head(15)\n",
    "btm_style = top_styles.tail(15)"
   ]
  },
  {
   "cell_type": "code",
   "execution_count": null,
   "metadata": {
    "colab": {},
    "colab_type": "code",
    "id": "Lbgo9V7EpTgC"
   },
   "outputs": [],
   "source": [
    "x = top_style['review_average']\n",
    "y = top_style['beer_style']\n",
    "\n",
    "p = [go.Bar(x = x,\n",
    "            y = y,\n",
    "            hoverinfo = 'x',\n",
    "            text=top_style['review_average'],\n",
    "            textposition = 'inside',\n",
    "            orientation='h',\n",
    "            opacity=0.7, \n",
    "            marker=dict(\n",
    "                color='rgb(1, 87, 155)'\n",
    "            ))]\n",
    "\n",
    "layout = go.Layout(title='Top 15 Styles by Review Average',\n",
    "                   xaxis=dict(title=\"Review Average\"),\n",
    "                   margin = dict(l = 220))\n",
    "\n",
    "fig = go.Figure(data=p, layout=layout)\n",
    "\n",
    "py.offline.iplot(fig)"
   ]
  },
  {
   "cell_type": "code",
   "execution_count": null,
   "metadata": {
    "colab": {},
    "colab_type": "code",
    "id": "uIYbuvzHpTgI"
   },
   "outputs": [],
   "source": [
    "x = btm_style['review_average']\n",
    "y = btm_style['beer_style']\n",
    "\n",
    "p = [go.Bar(x = x,\n",
    "            y = y,\n",
    "            hoverinfo = 'x',\n",
    "            text=btm_style['review_average'],\n",
    "            textposition = 'inside',\n",
    "            orientation='h',\n",
    "            opacity=0.7, \n",
    "            marker=dict(\n",
    "                color='rgb(1, 87, 155)'\n",
    "            ))]\n",
    "\n",
    "layout = go.Layout(title='Bottom 15 Breweries by Review Average',\n",
    "                   xaxis=dict(title=\"Review Average\"),\n",
    "                   margin = dict(l = 220))\n",
    "\n",
    "fig = go.Figure(data=p, layout=layout)\n",
    "\n",
    "py.offline.iplot(fig)"
   ]
  },
  {
   "cell_type": "markdown",
   "metadata": {
    "colab_type": "text",
    "id": "x_Q9XRelpTgP"
   },
   "source": [
    "## User Data\n"
   ]
  },
  {
   "cell_type": "code",
   "execution_count": null,
   "metadata": {
    "colab": {},
    "colab_type": "code",
    "id": "vribjOMapTgR"
   },
   "outputs": [],
   "source": [
    "df.review_profilename.value_counts().head(10)"
   ]
  },
  {
   "cell_type": "markdown",
   "metadata": {
    "colab_type": "text",
    "id": "OwLsqE3gpTgW"
   },
   "source": [
    "The most prolific reviewer in the dataset is northyorksammy with over 5,000 reviews. "
   ]
  },
  {
   "cell_type": "code",
   "execution_count": null,
   "metadata": {
    "colab": {},
    "colab_type": "code",
    "id": "6YkI8kwBpTgX"
   },
   "outputs": [],
   "source": [
    "fig = go.Figure()\n",
    "fig.add_trace(go.Box(y=df.review_profilename.value_counts(), boxmean='sd'))\n",
    "fig.update_layout(title='Distribution of Reviews per User')\n",
    "fig.show()"
   ]
  },
  {
   "cell_type": "markdown",
   "metadata": {
    "colab_type": "text",
    "id": "Fke-FJYCpTgd"
   },
   "source": [
    "While there are some power-users like northyorksammy in the dataset, the mean amount of reviews per user is 45.4, and the median is 3. We clearly have a smaller percent of prolific users throwing off the average, while the majority of users have far fewer reviews. "
   ]
  },
  {
   "cell_type": "code",
   "execution_count": null,
   "metadata": {
    "colab": {},
    "colab_type": "code",
    "id": "E90yfAcZpTgd"
   },
   "outputs": [],
   "source": [
    "df.review_time = pd.to_datetime(df['review_time'])"
   ]
  },
  {
   "cell_type": "code",
   "execution_count": null,
   "metadata": {
    "colab": {},
    "colab_type": "code",
    "id": "OEZ4PTi-pTgj"
   },
   "outputs": [],
   "source": [
    "group_by_date = df[['review_time']].groupby(df['review_time'].dt.date).agg(['count'])\n",
    "group_by_date.iplot(kind='line', title='Reviews Over Time')"
   ]
  }
 ],
 "metadata": {
  "colab": {
   "collapsed_sections": [
    "-3qPJxe3pTcL",
    "QvXAODCcpTcd",
    "jsczyUI9pTc5",
    "FNp-0PCOpTdJ",
    "5434WAkjpTde",
    "x_Q9XRelpTgP"
   ],
   "name": "Beer Reviews EDA and Visiualization.ipynb",
   "provenance": []
  },
  "kernelspec": {
   "display_name": "Python 3",
   "language": "python",
   "name": "python3"
  },
  "language_info": {
   "codemirror_mode": {
    "name": "ipython",
    "version": 3
   },
   "file_extension": ".py",
   "mimetype": "text/x-python",
   "name": "python",
   "nbconvert_exporter": "python",
   "pygments_lexer": "ipython3",
   "version": "3.7.3"
  }
 },
 "nbformat": 4,
 "nbformat_minor": 1
}
