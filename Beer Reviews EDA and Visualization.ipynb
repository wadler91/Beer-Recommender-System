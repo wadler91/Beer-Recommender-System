{
 "cells": [
  {
   "cell_type": "code",
   "execution_count": 38,
   "metadata": {},
   "outputs": [
    {
     "data": {
      "text/html": [
       "        <script type=\"text/javascript\">\n",
       "        window.PlotlyConfig = {MathJaxConfig: 'local'};\n",
       "        if (window.MathJax) {MathJax.Hub.Config({SVG: {font: \"STIX-Web\"}});}\n",
       "        if (typeof require !== 'undefined') {\n",
       "        require.undef(\"plotly\");\n",
       "        requirejs.config({\n",
       "            paths: {\n",
       "                'plotly': ['https://cdn.plot.ly/plotly-latest.min']\n",
       "            }\n",
       "        });\n",
       "        require(['plotly'], function(Plotly) {\n",
       "            window._Plotly = Plotly;\n",
       "        });\n",
       "        }\n",
       "        </script>\n",
       "        "
      ]
     },
     "metadata": {},
     "output_type": "display_data"
    },
    {
     "data": {
      "text/html": [
       "        <script type=\"text/javascript\">\n",
       "        window.PlotlyConfig = {MathJaxConfig: 'local'};\n",
       "        if (window.MathJax) {MathJax.Hub.Config({SVG: {font: \"STIX-Web\"}});}\n",
       "        if (typeof require !== 'undefined') {\n",
       "        require.undef(\"plotly\");\n",
       "        requirejs.config({\n",
       "            paths: {\n",
       "                'plotly': ['https://cdn.plot.ly/plotly-latest.min']\n",
       "            }\n",
       "        });\n",
       "        require(['plotly'], function(Plotly) {\n",
       "            window._Plotly = Plotly;\n",
       "        });\n",
       "        }\n",
       "        </script>\n",
       "        "
      ]
     },
     "metadata": {},
     "output_type": "display_data"
    }
   ],
   "source": [
    "import pandas as pd\n",
    "import numpy as np\n",
    "\n",
    "from plotly.offline import download_plotlyjs, init_notebook_mode, plot, iplot\n",
    "import plotly as py\n",
    "import plotly.graph_objs as go\n",
    "import plotly.express as px\n",
    "\n",
    "import cufflinks as cf\n",
    "cf.go_offline(connected=True)\n",
    "init_notebook_mode(connected=True)"
   ]
  },
  {
   "cell_type": "code",
   "execution_count": 39,
   "metadata": {},
   "outputs": [],
   "source": [
    "cf.set_config_file(theme='polar')"
   ]
  },
  {
   "cell_type": "markdown",
   "metadata": {},
   "source": [
    "## Beer Reviews Visualization"
   ]
  },
  {
   "cell_type": "markdown",
   "metadata": {},
   "source": [
    "This dataset contains 1.5 million beer reviews sourced from BeerAdvocate. We will examine the distribution of the reviews, as well as the most popular (and least popular) beers, beer styles and breweries."
   ]
  },
  {
   "cell_type": "code",
   "execution_count": 40,
   "metadata": {
    "scrolled": true
   },
   "outputs": [
    {
     "data": {
      "text/html": [
       "<div>\n",
       "<style scoped>\n",
       "    .dataframe tbody tr th:only-of-type {\n",
       "        vertical-align: middle;\n",
       "    }\n",
       "\n",
       "    .dataframe tbody tr th {\n",
       "        vertical-align: top;\n",
       "    }\n",
       "\n",
       "    .dataframe thead th {\n",
       "        text-align: right;\n",
       "    }\n",
       "</style>\n",
       "<table border=\"1\" class=\"dataframe\">\n",
       "  <thead>\n",
       "    <tr style=\"text-align: right;\">\n",
       "      <th></th>\n",
       "      <th>Unnamed: 0</th>\n",
       "      <th>brewery_id</th>\n",
       "      <th>brewery_name</th>\n",
       "      <th>review_time</th>\n",
       "      <th>review_overall</th>\n",
       "      <th>review_aroma</th>\n",
       "      <th>review_appearance</th>\n",
       "      <th>review_profilename</th>\n",
       "      <th>beer_style</th>\n",
       "      <th>review_palate</th>\n",
       "      <th>review_taste</th>\n",
       "      <th>beer_name</th>\n",
       "      <th>beer_abv</th>\n",
       "      <th>beer_beerid</th>\n",
       "    </tr>\n",
       "  </thead>\n",
       "  <tbody>\n",
       "    <tr>\n",
       "      <th>0</th>\n",
       "      <td>0</td>\n",
       "      <td>10325</td>\n",
       "      <td>Vecchio Birraio</td>\n",
       "      <td>2009-02-16 20:57:03</td>\n",
       "      <td>1.5</td>\n",
       "      <td>2.0</td>\n",
       "      <td>2.5</td>\n",
       "      <td>stcules</td>\n",
       "      <td>Hefeweizen</td>\n",
       "      <td>1.5</td>\n",
       "      <td>1.5</td>\n",
       "      <td>Sausa Weizen</td>\n",
       "      <td>5.0</td>\n",
       "      <td>47986</td>\n",
       "    </tr>\n",
       "    <tr>\n",
       "      <th>1</th>\n",
       "      <td>1</td>\n",
       "      <td>10325</td>\n",
       "      <td>Vecchio Birraio</td>\n",
       "      <td>2009-03-01 13:44:57</td>\n",
       "      <td>3.0</td>\n",
       "      <td>2.5</td>\n",
       "      <td>3.0</td>\n",
       "      <td>stcules</td>\n",
       "      <td>English Strong Ale</td>\n",
       "      <td>3.0</td>\n",
       "      <td>3.0</td>\n",
       "      <td>Red Moon</td>\n",
       "      <td>6.2</td>\n",
       "      <td>48213</td>\n",
       "    </tr>\n",
       "    <tr>\n",
       "      <th>2</th>\n",
       "      <td>2</td>\n",
       "      <td>10325</td>\n",
       "      <td>Vecchio Birraio</td>\n",
       "      <td>2009-03-01 14:10:04</td>\n",
       "      <td>3.0</td>\n",
       "      <td>2.5</td>\n",
       "      <td>3.0</td>\n",
       "      <td>stcules</td>\n",
       "      <td>Foreign / Export Stout</td>\n",
       "      <td>3.0</td>\n",
       "      <td>3.0</td>\n",
       "      <td>Black Horse Black Beer</td>\n",
       "      <td>6.5</td>\n",
       "      <td>48215</td>\n",
       "    </tr>\n",
       "    <tr>\n",
       "      <th>3</th>\n",
       "      <td>3</td>\n",
       "      <td>10325</td>\n",
       "      <td>Vecchio Birraio</td>\n",
       "      <td>2009-02-15 19:12:25</td>\n",
       "      <td>3.0</td>\n",
       "      <td>3.0</td>\n",
       "      <td>3.5</td>\n",
       "      <td>stcules</td>\n",
       "      <td>German Pilsener</td>\n",
       "      <td>2.5</td>\n",
       "      <td>3.0</td>\n",
       "      <td>Sausa Pils</td>\n",
       "      <td>5.0</td>\n",
       "      <td>47969</td>\n",
       "    </tr>\n",
       "    <tr>\n",
       "      <th>4</th>\n",
       "      <td>4</td>\n",
       "      <td>1075</td>\n",
       "      <td>Caldera Brewing Company</td>\n",
       "      <td>2010-12-30 18:53:26</td>\n",
       "      <td>4.0</td>\n",
       "      <td>4.5</td>\n",
       "      <td>4.0</td>\n",
       "      <td>johnmichaelsen</td>\n",
       "      <td>American Double / Imperial IPA</td>\n",
       "      <td>4.0</td>\n",
       "      <td>4.5</td>\n",
       "      <td>Cauldron DIPA</td>\n",
       "      <td>7.7</td>\n",
       "      <td>64883</td>\n",
       "    </tr>\n",
       "  </tbody>\n",
       "</table>\n",
       "</div>"
      ],
      "text/plain": [
       "   Unnamed: 0  brewery_id             brewery_name          review_time  \\\n",
       "0           0       10325          Vecchio Birraio  2009-02-16 20:57:03   \n",
       "1           1       10325          Vecchio Birraio  2009-03-01 13:44:57   \n",
       "2           2       10325          Vecchio Birraio  2009-03-01 14:10:04   \n",
       "3           3       10325          Vecchio Birraio  2009-02-15 19:12:25   \n",
       "4           4        1075  Caldera Brewing Company  2010-12-30 18:53:26   \n",
       "\n",
       "   review_overall  review_aroma  review_appearance review_profilename  \\\n",
       "0             1.5           2.0                2.5            stcules   \n",
       "1             3.0           2.5                3.0            stcules   \n",
       "2             3.0           2.5                3.0            stcules   \n",
       "3             3.0           3.0                3.5            stcules   \n",
       "4             4.0           4.5                4.0     johnmichaelsen   \n",
       "\n",
       "                       beer_style  review_palate  review_taste  \\\n",
       "0                      Hefeweizen            1.5           1.5   \n",
       "1              English Strong Ale            3.0           3.0   \n",
       "2          Foreign / Export Stout            3.0           3.0   \n",
       "3                 German Pilsener            2.5           3.0   \n",
       "4  American Double / Imperial IPA            4.0           4.5   \n",
       "\n",
       "                beer_name  beer_abv  beer_beerid  \n",
       "0            Sausa Weizen       5.0        47986  \n",
       "1                Red Moon       6.2        48213  \n",
       "2  Black Horse Black Beer       6.5        48215  \n",
       "3              Sausa Pils       5.0        47969  \n",
       "4           Cauldron DIPA       7.7        64883  "
      ]
     },
     "execution_count": 40,
     "metadata": {},
     "output_type": "execute_result"
    }
   ],
   "source": [
    "df = pd.read_csv('beer_reviews_clean.csv')\n",
    "df.head()"
   ]
  },
  {
   "cell_type": "code",
   "execution_count": null,
   "metadata": {},
   "outputs": [],
   "source": [
    "print('Number of unique breweries:', df.brewery_name.nunique())\n",
    "print('Number of unique beer styles:', df.beer_style.nunique())\n",
    "print('Number of beers reviewed:', df.beer_name.nunique())"
   ]
  },
  {
   "cell_type": "markdown",
   "metadata": {},
   "source": [
    "## Review Scores"
   ]
  },
  {
   "cell_type": "code",
   "execution_count": null,
   "metadata": {},
   "outputs": [],
   "source": [
    "x0 = df.review_appearance\n",
    "x1 = df.review_aroma\n",
    "x2 = df.review_overall\n",
    "x3 = df.review_palate\n",
    "x4 = df.review_taste\n",
    "\n",
    "fig = go.Figure()\n",
    "fig.add_trace(go.Histogram(x=x0, name='Review Appearance'))\n",
    "fig.add_trace(go.Histogram(x=x1,  name='Review Aroma'))\n",
    "fig.add_trace(go.Histogram(x=x2, name='Review Overall'))\n",
    "fig.add_trace(go.Histogram(x=x3, name='Review Palate'))\n",
    "fig.add_trace(go.Histogram(x=x4, name=\"Review Taste\"))\n",
    "\n",
    "fig.update_traces(opacity=0.75)\n",
    "fig.update_layout(title_text = 'Distribution of Reviews',\n",
    "                 xaxis_title_text='Review Score',\n",
    "                 yaxis_title_text='Count',\n",
    "                 bargap=0.2)\n",
    "fig.show()"
   ]
  },
  {
   "cell_type": "markdown",
   "metadata": {},
   "source": [
    "It appears that the users in this dataset are most likely to give a rating of 4 across all categories. There seem to be more good reviews than bad."
   ]
  },
  {
   "cell_type": "code",
   "execution_count": null,
   "metadata": {},
   "outputs": [],
   "source": [
    "dfhigh = df.loc[df['review_overall'] >= 3]\n",
    "dflow= df.loc[df['review_overall'] <= 2.5]"
   ]
  },
  {
   "cell_type": "code",
   "execution_count": null,
   "metadata": {},
   "outputs": [],
   "source": [
    "x0 = dfhigh.review_appearance\n",
    "x1 = dfhigh.review_aroma\n",
    "x2 = dfhigh.review_overall\n",
    "x3 = dfhigh.review_palate\n",
    "x4 = dfhigh.review_taste\n",
    "\n",
    "fig = go.Figure()\n",
    "fig.add_trace(go.Histogram(x=x0, name='Review Appearance'))\n",
    "fig.add_trace(go.Histogram(x=x1,  name='Review Aroma'))\n",
    "fig.add_trace(go.Histogram(x=x2, name='Review Overall'))\n",
    "fig.add_trace(go.Histogram(x=x3, name='Review Palate'))\n",
    "fig.add_trace(go.Histogram(x=x4, name=\"Review Taste\"))\n",
    "\n",
    "# Reduce opacity to see both histograms\n",
    "fig.update_traces(opacity=0.75)\n",
    "fig.update_layout(title_text = 'Distribution of Reviews - Highly Rated',\n",
    "                 xaxis_title_text='Review Score',\n",
    "                 yaxis_title_text='Count',\n",
    "                 bargap=0.2)\n",
    "fig.show()"
   ]
  },
  {
   "cell_type": "code",
   "execution_count": null,
   "metadata": {},
   "outputs": [],
   "source": [
    "x0 = dflow.review_appearance\n",
    "x1 = dflow.review_aroma\n",
    "x2 = dflow.review_overall\n",
    "x3 = dflow.review_palate\n",
    "x4 = dflow.review_taste\n",
    "\n",
    "fig = go.Figure()\n",
    "fig.add_trace(go.Histogram(x=x0, name='Review Appearance'))\n",
    "fig.add_trace(go.Histogram(x=x1,  name='Review Aroma'))\n",
    "fig.add_trace(go.Histogram(x=x2, name='Review Overall'))\n",
    "fig.add_trace(go.Histogram(x=x3, name='Review Palate'))\n",
    "fig.add_trace(go.Histogram(x=x4, name=\"Review Taste\"))\n",
    "\n",
    "# Reduce opacity to see both histograms\n",
    "fig.update_traces(opacity=0.75)\n",
    "fig.update_layout(title_text = 'Distribution of Reviews - Low Ratings',\n",
    "                 xaxis_title_text='Review Score',\n",
    "                 yaxis_title_text='Count',\n",
    "                 bargap=0.2)\n",
    "fig.show()"
   ]
  },
  {
   "cell_type": "markdown",
   "metadata": {},
   "source": [
    "Unsurprisingly, beers with ratings under 3 scored lower on all categories. The biggest difference appears to be in the review_taste category, and the smallest is review_appearance. This suggests that taste is ultimately the most important feature in a beer."
   ]
  },
  {
   "cell_type": "markdown",
   "metadata": {},
   "source": [
    "## Alcohol By Volume"
   ]
  },
  {
   "cell_type": "code",
   "execution_count": null,
   "metadata": {},
   "outputs": [],
   "source": [
    "x = df['beer_abv'].sort_values(ascending=False)\n",
    "\n",
    "fig= go.Figure()\n",
    "fig.add_trace(go.Histogram(x=x/100, nbinsx=100, histfunc=\"count\", name='count'))\n",
    "\n",
    "fig.update_layout(\n",
    "    title_text='Beer ABV',\n",
    "    bargap=0.2,\n",
    "    xaxis=dict(title=\"Percent Alcohol by Volume\",\n",
    "            tickformat = \"%\",\n",
    "            hoverformat = '.2%'),\n",
    "    yaxis_title='Count')\n",
    "fig.show()"
   ]
  },
  {
   "cell_type": "markdown",
   "metadata": {},
   "source": [
    "The most represented alcohol by volume percentage is 5 - 5.99%. Most of the data falls between 4 and 10% ABV, with some outliers at the extreme ends of the spectrum. "
   ]
  },
  {
   "cell_type": "markdown",
   "metadata": {},
   "source": [
    "## Which features are most influential?"
   ]
  },
  {
   "cell_type": "code",
   "execution_count": null,
   "metadata": {},
   "outputs": [],
   "source": [
    "corr = df[['review_overall', 'review_aroma', 'review_appearance', 'review_palate', 'review_taste', 'beer_abv']].corr()\n",
    "fig = go.Figure()\n",
    "\n",
    "fig.add_trace(go.Heatmap(\n",
    "    z=corr.values,\n",
    "    x=list(corr.columns),\n",
    "    y=list(corr.index),\n",
    "    colorscale='blues'\n",
    "    ))\n",
    "\n",
    "fig.show()"
   ]
  },
  {
   "cell_type": "markdown",
   "metadata": {},
   "source": [
    "review_taste displays the strongest correlation with review_overall, followed by review_palate. beer_abv does not seem to affect the review scores at all. "
   ]
  },
  {
   "cell_type": "markdown",
   "metadata": {},
   "source": [
    "## Beer Style Counts"
   ]
  },
  {
   "cell_type": "code",
   "execution_count": null,
   "metadata": {
    "scrolled": false
   },
   "outputs": [],
   "source": [
    "df.beer_style.value_counts().head(20).iplot(kind='barh', title='20 Most Reviewed Beer Styles')"
   ]
  },
  {
   "cell_type": "code",
   "execution_count": null,
   "metadata": {},
   "outputs": [],
   "source": [
    "df.beer_style.value_counts().tail(20).iplot(kind='barh', title='20 Least Reviewed Beer Styles')"
   ]
  },
  {
   "cell_type": "markdown",
   "metadata": {},
   "source": [
    "The most commonly reviewed beer is clearly the American IPA, with over 100,000 reviews. Interestingly over half of the beers in the top 20 are American styles. While we don't have data on user location, I would guess that most of the users in this dataset are American. The least reviewed beer styles are Kvass and Happoshu, both of which are beer-like beverages but arguably not actual beer. The next least reviewed is Roggenbier, a medieval style rye beer. "
   ]
  },
  {
   "cell_type": "markdown",
   "metadata": {},
   "source": [
    "## Top 10 Beers"
   ]
  },
  {
   "cell_type": "code",
   "execution_count": null,
   "metadata": {},
   "outputs": [],
   "source": [
    "y = df['beer_name'].value_counts().sort_values(ascending=False).head(10).iplot(kind='barh', title='10 Most Reviewed Beers')"
   ]
  },
  {
   "cell_type": "markdown",
   "metadata": {},
   "source": [
    "## Brewery Counts"
   ]
  },
  {
   "cell_type": "code",
   "execution_count": null,
   "metadata": {},
   "outputs": [],
   "source": [
    "df.brewery_name.value_counts().head(20).iplot(kind='barh', title='Top 20 Most Reviewed Breweries')"
   ]
  },
  {
   "cell_type": "code",
   "execution_count": null,
   "metadata": {},
   "outputs": [],
   "source": [
    "df.brewery_name.value_counts().tail(20).iplot(kind='barh', title='Least Reviewed Breweries')"
   ]
  },
  {
   "cell_type": "markdown",
   "metadata": {},
   "source": [
    "Boston Beer Company (Samuel Adams) takes the prize for highest number of reviews with over 38,000 reviews. The Bottom 20 are all tied at one review each. "
   ]
  },
  {
   "cell_type": "markdown",
   "metadata": {},
   "source": [
    "## Strongest and Weakest Beers"
   ]
  },
  {
   "cell_type": "code",
   "execution_count": null,
   "metadata": {},
   "outputs": [],
   "source": [
    "top20abv = df[['beer_name', 'brewery_name', 'beer_abv', 'beer_style']].sort_values('beer_abv', ascending=False).drop_duplicates('beer_name').head(20)\n",
    "\n",
    "p = [go.Bar(x = top20abv['beer_abv'] / 100,\n",
    "            y = top20abv['beer_name'],\n",
    "            hoverinfo = 'x',\n",
    "            text=top20abv['brewery_name'],\n",
    "            textposition = 'inside',\n",
    "            orientation='h',\n",
    "            opacity=0.7, \n",
    "            marker=dict(\n",
    "                color='rgb(1, 87, 155)'\n",
    "            ))]\n",
    "\n",
    "layout = go.Layout(title='Top 20 Strongest Beers by ABV',\n",
    "                   xaxis=dict(title=\"ABV\",\n",
    "                              tickformat = \"%\",\n",
    "                              hoverformat = '.2%'),\n",
    "                   margin = dict(l = 220))\n",
    "\n",
    "fig = go.Figure(data=p, layout=layout)\n",
    "\n",
    "py.offline.iplot(fig)"
   ]
  },
  {
   "cell_type": "code",
   "execution_count": null,
   "metadata": {},
   "outputs": [],
   "source": [
    "btm20abv = df[['beer_name', 'brewery_name', 'beer_abv', 'beer_style']].sort_values('beer_abv', ascending=False).drop_duplicates('beer_name').tail(20)\n",
    "\n",
    "p = [go.Bar(x = btm20abv['beer_abv'] / 100,\n",
    "            y = btm20abv['beer_name'],\n",
    "            hoverinfo = 'x',\n",
    "            text=btm20abv['brewery_name'],\n",
    "            textposition = 'inside',\n",
    "            orientation='h',\n",
    "            opacity=0.7, \n",
    "            marker=dict(\n",
    "                color='rgb(1, 87, 155)'\n",
    "            ))]\n",
    "\n",
    "layout = go.Layout(title='Top 20 Weakest Beers by ABV',\n",
    "                   xaxis=dict(title=\"ABV\",\n",
    "                              tickformat = \"%\",\n",
    "                              hoverformat = '.2%'),\n",
    "                   margin = dict(l = 220))\n",
    "\n",
    "fig = go.Figure(data=p, layout=layout)\n",
    "\n",
    "py.offline.iplot(fig)"
   ]
  },
  {
   "cell_type": "markdown",
   "metadata": {},
   "source": [
    "The strongest beer reviewed is the Schorsbrau Schorsbock at a whopping 57% alcohol by volume, higher than most hard liquors. The lowest is Liber at 0.01%"
   ]
  },
  {
   "cell_type": "markdown",
   "metadata": {},
   "source": [
    "## Best and Worst Reviews"
   ]
  },
  {
   "cell_type": "markdown",
   "metadata": {},
   "source": [
    "While before we viewed the most frequently reviewed beers, this section will examine both the best and worst reviews by beer, style, and brewery. First we will create a \"review average\" column, taking the average of all the review variables for each beer. "
   ]
  },
  {
   "cell_type": "code",
   "execution_count": null,
   "metadata": {},
   "outputs": [],
   "source": [
    "df['review_average'] = df.apply(lambda x: (x.review_overall + x.review_aroma + x.review_appearance + x.review_palate + x.review_taste) / 5, axis=1)"
   ]
  },
  {
   "cell_type": "code",
   "execution_count": null,
   "metadata": {},
   "outputs": [],
   "source": [
    "df['total_reviews'] = 0\n",
    "\n",
    "beers_grouped = df.groupby(['beer_beerid']).agg(dict(beer_name='first', brewery_name='first', beer_style = 'first', total_reviews='count', review_appearance='mean', review_overall='median', review_taste='mean', review_aroma='mean', review_average='mean', review_palate='mean')).reset_index()"
   ]
  },
  {
   "cell_type": "code",
   "execution_count": null,
   "metadata": {},
   "outputs": [],
   "source": [
    "beers_grouped.head()"
   ]
  },
  {
   "cell_type": "code",
   "execution_count": null,
   "metadata": {},
   "outputs": [],
   "source": [
    "beers_grouped.describe()"
   ]
  },
  {
   "cell_type": "markdown",
   "metadata": {},
   "source": [
    "After grouping the beers so we can see how many times each has been reviewed, we can see that the average amount of reviews for each beer is around 30, and the standard deviation is quite high in this category. Everything up to the 50% quantile is below 3 reviews per beer! For a more accurate representation of the highest reviewed beers, we will limit our data to only beers that have been reviewed at least 100 times. "
   ]
  },
  {
   "cell_type": "code",
   "execution_count": null,
   "metadata": {},
   "outputs": [],
   "source": [
    "top_reviews = beers_grouped.loc[beers_grouped['total_reviews'] >= 100]"
   ]
  },
  {
   "cell_type": "code",
   "execution_count": null,
   "metadata": {},
   "outputs": [],
   "source": [
    "top_reviews.head()"
   ]
  },
  {
   "cell_type": "code",
   "execution_count": null,
   "metadata": {},
   "outputs": [],
   "source": [
    "top_beers = top_reviews.sort_values('review_average',ascending=False).head(15)"
   ]
  },
  {
   "cell_type": "code",
   "execution_count": null,
   "metadata": {},
   "outputs": [],
   "source": [
    "btm_beers = top_reviews.sort_values('review_average',ascending=False).tail(15)"
   ]
  },
  {
   "cell_type": "code",
   "execution_count": null,
   "metadata": {},
   "outputs": [],
   "source": [
    "x = top_beers['review_average']\n",
    "y = top_beers['beer_name']\n",
    "\n",
    "p = [go.Bar(x = x,\n",
    "            y = y,\n",
    "            hoverinfo = 'x',\n",
    "            text=top_beers['brewery_name'],\n",
    "            textposition = 'inside',\n",
    "            orientation='h',\n",
    "            opacity=0.7, \n",
    "            marker=dict(\n",
    "                color='rgb(1, 87, 155)'\n",
    "            ))]\n",
    "\n",
    "layout = go.Layout(title='Top 15 Beers by Review Average',\n",
    "                   xaxis=dict(title=\"Review Average\"),\n",
    "                   margin = dict(l = 220))\n",
    "\n",
    "fig = go.Figure(data=p, layout=layout)\n",
    "\n",
    "py.offline.iplot(fig)"
   ]
  },
  {
   "cell_type": "code",
   "execution_count": null,
   "metadata": {},
   "outputs": [],
   "source": [
    "x = btm_beers['review_average']\n",
    "y = btm_beers['beer_name']\n",
    "\n",
    "p = [go.Bar(x = x,\n",
    "            y = y,\n",
    "            hoverinfo = 'x',\n",
    "            text=btm_beers['brewery_name'],\n",
    "            textposition = 'inside',\n",
    "            orientation='h',\n",
    "            opacity=0.7, \n",
    "            marker=dict(\n",
    "                color='rgb(1, 87, 155)'\n",
    "            ))]\n",
    "\n",
    "layout = go.Layout(title='Bottom 15 Beers by Review Average',\n",
    "                   xaxis=dict(title=\"Review Average\"),\n",
    "                   margin = dict(l = 220))\n",
    "\n",
    "fig = go.Figure(data=p, layout=layout)\n",
    "\n",
    "py.offline.iplot(fig)"
   ]
  },
  {
   "cell_type": "markdown",
   "metadata": {},
   "source": [
    "The thing that stands out to me most from these plots is that the bottom 15 is almost exclusively populated with American macro-brewed beers, particularly frorm Anheuser-Busch. The users here clearly prefer craft beer! Also of note is the fact that Russian River Brewing has not only the top rated beer, but two other appearances in the top 15. "
   ]
  },
  {
   "cell_type": "code",
   "execution_count": null,
   "metadata": {},
   "outputs": [],
   "source": [
    "top_breweries = top_reviews.groupby('brewery_name').agg(dict(brewery_name='first', review_average='mean')).sort_values('review_average', ascending=False)\n",
    "top_brew = top_breweries.head(15)\n",
    "btm_brew = top_breweries.tail(15)"
   ]
  },
  {
   "cell_type": "code",
   "execution_count": null,
   "metadata": {},
   "outputs": [],
   "source": [
    "x = top_brew['review_average']\n",
    "y = top_brew['brewery_name']\n",
    "\n",
    "p = [go.Bar(x = x,\n",
    "            y = y,\n",
    "            hoverinfo = 'x',\n",
    "            text=top_brew['review_average'],\n",
    "            textposition = 'inside',\n",
    "            orientation='h',\n",
    "            opacity=0.7, \n",
    "            marker=dict(\n",
    "                color='rgb(1, 87, 155)'\n",
    "            ))]\n",
    "\n",
    "layout = go.Layout(title='Top 15 Breweries by Review Average',\n",
    "                   xaxis=dict(title=\"Review Average\"),\n",
    "                   margin = dict(l = 220))\n",
    "\n",
    "fig = go.Figure(data=p, layout=layout)\n",
    "\n",
    "py.offline.iplot(fig)"
   ]
  },
  {
   "cell_type": "code",
   "execution_count": null,
   "metadata": {},
   "outputs": [],
   "source": [
    "x = btm_brew['review_average']\n",
    "y = btm_brew['brewery_name']\n",
    "\n",
    "p = [go.Bar(x = x,\n",
    "            y = y,\n",
    "            hoverinfo = 'x',\n",
    "            text=btm_brew['review_average'],\n",
    "            textposition = 'inside',\n",
    "            orientation='h',\n",
    "            opacity=0.7, \n",
    "            marker=dict(\n",
    "                color='rgb(1, 87, 155)'\n",
    "            ))]\n",
    "\n",
    "layout = go.Layout(title='Bottom 15 Breweries by Review Average',\n",
    "                   xaxis=dict(title=\"Review Average\"),\n",
    "                   margin = dict(l = 220))\n",
    "\n",
    "fig = go.Figure(data=p, layout=layout)\n",
    "\n",
    "py.offline.iplot(fig)"
   ]
  },
  {
   "cell_type": "code",
   "execution_count": null,
   "metadata": {},
   "outputs": [],
   "source": [
    "top_styles = top_reviews.groupby('beer_style').agg(dict(beer_style='first', review_average='mean')).sort_values('review_average', ascending=False)\n",
    "top_style = top_styles.head(15)\n",
    "btm_style = top_styles.tail(15)"
   ]
  },
  {
   "cell_type": "code",
   "execution_count": null,
   "metadata": {},
   "outputs": [],
   "source": [
    "x = top_style['review_average']\n",
    "y = top_style['beer_style']\n",
    "\n",
    "p = [go.Bar(x = x,\n",
    "            y = y,\n",
    "            hoverinfo = 'x',\n",
    "            text=top_style['review_average'],\n",
    "            textposition = 'inside',\n",
    "            orientation='h',\n",
    "            opacity=0.7, \n",
    "            marker=dict(\n",
    "                color='rgb(1, 87, 155)'\n",
    "            ))]\n",
    "\n",
    "layout = go.Layout(title='Top 15 Styles by Review Average',\n",
    "                   xaxis=dict(title=\"Review Average\"),\n",
    "                   margin = dict(l = 220))\n",
    "\n",
    "fig = go.Figure(data=p, layout=layout)\n",
    "\n",
    "py.offline.iplot(fig)"
   ]
  },
  {
   "cell_type": "code",
   "execution_count": null,
   "metadata": {},
   "outputs": [],
   "source": [
    "x = btm_style['review_average']\n",
    "y = btm_style['beer_style']\n",
    "\n",
    "p = [go.Bar(x = x,\n",
    "            y = y,\n",
    "            hoverinfo = 'x',\n",
    "            text=btm_style['review_average'],\n",
    "            textposition = 'inside',\n",
    "            orientation='h',\n",
    "            opacity=0.7, \n",
    "            marker=dict(\n",
    "                color='rgb(1, 87, 155)'\n",
    "            ))]\n",
    "\n",
    "layout = go.Layout(title='Bottom 15 Breweries by Review Average',\n",
    "                   xaxis=dict(title=\"Review Average\"),\n",
    "                   margin = dict(l = 220))\n",
    "\n",
    "fig = go.Figure(data=p, layout=layout)\n",
    "\n",
    "py.offline.iplot(fig)"
   ]
  },
  {
   "cell_type": "markdown",
   "metadata": {},
   "source": [
    "## User Data\n"
   ]
  },
  {
   "cell_type": "code",
   "execution_count": null,
   "metadata": {},
   "outputs": [],
   "source": [
    "df.review_profilename.value_counts().head(10)"
   ]
  },
  {
   "cell_type": "markdown",
   "metadata": {},
   "source": [
    "The most prolific reviewer in the dataset is northyorksammy with over 5,000 reviews. "
   ]
  },
  {
   "cell_type": "code",
   "execution_count": null,
   "metadata": {},
   "outputs": [],
   "source": [
    "fig = go.Figure()\n",
    "fig.add_trace(go.Box(y=df.review_profilename.value_counts(), boxmean='sd'))\n",
    "fig.update_layout(title='Distribution of Reviews per User')\n",
    "fig.show()"
   ]
  },
  {
   "cell_type": "markdown",
   "metadata": {},
   "source": [
    "While there are some power-users like northyorksammy in the dataset, the mean amount of reviews per user is 45.4, and the median is 3. We clearly have a smaller percent of prolific users throwing off the average, while the majority of users have far fewer reviews. "
   ]
  },
  {
   "cell_type": "code",
   "execution_count": null,
   "metadata": {},
   "outputs": [],
   "source": [
    "df.review_time = pd.to_datetime(df['review_time'])"
   ]
  },
  {
   "cell_type": "code",
   "execution_count": null,
   "metadata": {},
   "outputs": [],
   "source": [
    "group_by_date = df[['review_time']].groupby(df['review_time'].dt.date).agg(['count'])\n",
    "group_by_date.iplot(kind='line', title='Reviews Over Time')"
   ]
  }
 ],
 "metadata": {
  "kernelspec": {
   "display_name": "Python 3",
   "language": "python",
   "name": "python3"
  },
  "language_info": {
   "codemirror_mode": {
    "name": "ipython",
    "version": 3
   },
   "file_extension": ".py",
   "mimetype": "text/x-python",
   "name": "python",
   "nbconvert_exporter": "python",
   "pygments_lexer": "ipython3",
   "version": "3.7.3"
  }
 },
 "nbformat": 4,
 "nbformat_minor": 2
}
